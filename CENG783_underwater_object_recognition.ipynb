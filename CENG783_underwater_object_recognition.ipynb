{
 "cells": [
  {
   "cell_type": "code",
   "execution_count": null,
   "metadata": {
    "collapsed": true
   },
   "outputs": [],
   "source": [
    "import tensorflow as tf\n",
    "import numpy as np\n",
    "import os\n",
    "import matplotlib.image as mpimg\n",
    "from skimage import io\n",
    "import importDataSet\n",
    "import matplotlib.pyplot as plt\n",
    "\n",
    "%matplotlib inline\n",
    "plt.rcParams['figure.figsize'] = (10.0, 8.0) # set default size of plots\n",
    "plt.rcParams['image.interpolation'] = 'nearest'\n",
    "plt.rcParams['image.cmap'] = 'gray'\n",
    "\n",
    "# for auto-reloading external modules\n",
    "# see http://stackoverflow.com/questions/1907993/autoreload-of-modules-in-ipython\n",
    "%load_ext autoreload\n",
    "%autoreload 2"
   ]
  },
  {
   "cell_type": "code",
   "execution_count": null,
   "metadata": {},
   "outputs": [],
   "source": [
    "print(tf.__version__)"
   ]
  },
  {
   "cell_type": "code",
   "execution_count": null,
   "metadata": {
    "collapsed": true
   },
   "outputs": [],
   "source": [
    "# location = \"/media/yigit/YEDEK320/final_dataset/\"  # Location of the dataset\n",
    "# locationSSD = \"/media/yigit/2E58D09A58D0625F/tf\"\n",
    "\n",
    "location = \"D:\\\\final_dataset\\\\\"\n",
    "locationSSD = \"C:\\\\tf\"\n",
    "itemNumbers=[0,0,0]\n",
    "totalNumberOfImages = 0;\n",
    "nameDataset = {}"
   ]
  },
  {
   "cell_type": "code",
   "execution_count": null,
   "metadata": {
    "collapsed": true
   },
   "outputs": [],
   "source": [
    "verbose = 1\n"
   ]
  },
  {
   "cell_type": "code",
   "execution_count": null,
   "metadata": {
    "collapsed": true
   },
   "outputs": [],
   "source": [
    "totalNumberOfImages, nameDataset, itemNumbers = importDataSet.findTheFiles(location=location,verbose=0)\n",
    "\n"
   ]
  },
  {
   "cell_type": "code",
   "execution_count": null,
   "metadata": {},
   "outputs": [],
   "source": [
    "importDataSet.showSomeSamples(nameDataset)\n",
    "if verbose == 1:\n",
    "    items = [\"pipe\",\"cable\",\"diver\"]\n",
    "    print(\"There are total {0} images in the dataset\".format(totalNumberOfImages))\n",
    "    for i, item in enumerate(itemNumbers):\n",
    "        print(\"There are {0} {1}-containing image\".format(item, items[i]))\n",
    "\n",
    "    # for item in nameDataset.keys():\n",
    "    #     print(item + \"-->\")\n",
    "    #     print(nameDataset[item])\n",
    "\n"
   ]
  },
  {
   "cell_type": "markdown",
   "metadata": {},
   "source": [
    "If the tfrecord file is not created, comment out this sction to create the tf record."
   ]
  },
  {
   "cell_type": "code",
   "execution_count": null,
   "metadata": {
    "collapsed": true
   },
   "outputs": [],
   "source": [
    "#file_list = importDataSet.writeTfrecords(nameDataset, location+\"tf/\", how_many_files=totalNumberOfImages, verbose= 0)"
   ]
  },
  {
   "cell_type": "markdown",
   "metadata": {},
   "source": [
    "Just to check if the file is created correctly"
   ]
  },
  {
   "cell_type": "code",
   "execution_count": null,
   "metadata": {
    "collapsed": true,
    "scrolled": true
   },
   "outputs": [],
   "source": [
    "# imageBatch,labelBatch = importDataSet.getBatchFromFile(location+\"tf/\",n_batch=200,sess=sess)\n",
    "\n",
    "# print(imageBatch.shape,labelBatch.shape)\n",
    "# importDataSet.showObtainedImages(imageBatch,  labelBatch)"
   ]
  },
  {
   "cell_type": "code",
   "execution_count": null,
   "metadata": {
    "scrolled": false
   },
   "outputs": [],
   "source": [
    "config = tf.ConfigProto()\n",
    "config.gpu_options.allow_growth=True\n",
    "with tf.Session() as sess1:\n",
    "    imageSet, labels = importDataSet.importAllDataSet(locationSSD, totalNumberOfImages, session=sess1)"
   ]
  },
  {
   "cell_type": "code",
   "execution_count": null,
   "metadata": {},
   "outputs": [],
   "source": [
    "print(imageSet.shape,labels.shape)\n",
    "print(np.result_type(imageSet))"
   ]
  },
  {
   "cell_type": "code",
   "execution_count": null,
   "metadata": {},
   "outputs": [],
   "source": [
    "trainSet, trainLabels = [imageSet[0:int(imageSet.shape[0]*0.8)], labels[0:int(labels.shape[0]*0.8)]]\n",
    "print(trainSet.shape, trainLabels.shape)\n",
    "trainSize = trainSet.shape[0]\n",
    "validationSet, validationLabels = [imageSet[int(imageSet.shape[0]*0.8):], labels[int(labels.shape[0]*0.8):]]\n",
    "print(validationSet.shape, validationLabels.shape)\n",
    "validationSize = validationSet.shape[0]"
   ]
  },
  {
   "cell_type": "code",
   "execution_count": null,
   "metadata": {
    "collapsed": true
   },
   "outputs": [],
   "source": [
    "import weaklySupervisedObjectDetectionNetwork as WSODN"
   ]
  },
  {
   "cell_type": "code",
   "execution_count": null,
   "metadata": {
    "scrolled": true
   },
   "outputs": [],
   "source": [
    "\n",
    "# print(batch_index)\n",
    "# print(trainSet[batch_index].shape)\n",
    "# print(trainLabels[batch_index].shape)\n",
    "error_list =[]\n",
    "with tf.Session() as sess2:\n",
    "    WSCNN = WSODN.WSCNN(\"./vgg16_weights.npz\",sess2)  # initialize the network\n",
    "    \n",
    "    loss = tf.reduce_sum(1+tf.exp(-1*WSCNN.labels*WSCNN.overAllScore))\n",
    "    optimizer = tf.train.AdamOptimizer(learning_rate=1e-10).minimize(loss)\n",
    "    \n",
    "    init = tf.initialize_all_variables()\n",
    "    sess2.run(init)\n",
    "    for iteration in range(1000):\n",
    "        batch_index = np.random.choice(trainSize, 4)\n",
    "        _, asd = sess2.run([optimizer,loss],feed_dict={WSCNN.batch:trainSet[batch_index], WSCNN.labels:trainLabels[batch_index]})\n",
    "        print(batch_index, asd)\n",
    "        error_list.append(asd)"
   ]
  },
  {
   "cell_type": "code",
   "execution_count": null,
   "metadata": {
    "collapsed": true
   },
   "outputs": [],
   "source": []
  }
 ],
 "metadata": {
  "kernelspec": {
   "display_name": "Python 3",
   "language": "python",
   "name": "python3"
  },
  "language_info": {
   "codemirror_mode": {
    "name": "ipython",
    "version": 3
   },
   "file_extension": ".py",
   "mimetype": "text/x-python",
   "name": "python",
   "nbconvert_exporter": "python",
   "pygments_lexer": "ipython3",
   "version": "3.5.3"
  }
 },
 "nbformat": 4,
 "nbformat_minor": 1
}
